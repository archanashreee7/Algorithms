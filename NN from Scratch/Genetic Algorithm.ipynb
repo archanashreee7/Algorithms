{
  "nbformat": 4,
  "nbformat_minor": 0,
  "metadata": {
    "colab": {
      "provenance": []
    },
    "kernelspec": {
      "name": "python3",
      "display_name": "Python 3"
    },
    "language_info": {
      "name": "python"
    }
  },
  "cells": [
    {
      "cell_type": "code",
      "source": [
        "import numpy as np\n",
        "from sklearn.datasets import load_digits\n",
        "from sklearn.model_selection import train_test_split\n",
        "from sklearn.metrics import accuracy_score\n",
        "from sklearn.neural_network import MLPClassifier\n",
        "\n",
        "import warnings\n",
        "from sklearn.exceptions import ConvergenceWarning\n",
        "\n",
        "warnings.filterwarnings(\"ignore\", category=ConvergenceWarning)\n",
        "\n",
        "# Load dataset\n",
        "digits = load_digits()\n",
        "X = digits.data\n",
        "y = digits.target\n",
        "X_train, X_test, y_train, y_test = train_test_split(X, y, test_size=0.3)\n",
        "\n",
        "# Initialize Neural Network\n",
        "nn = MLPClassifier(hidden_layer_sizes=(32,), max_iter=1, warm_start=True)\n",
        "nn.fit(X_train, y_train)  # Initial fit to set up the network\n",
        "\n",
        "# Evaluation function for the neural network\n",
        "def evaluate_nn(weights):\n",
        "    nn.coefs_ = [np.array(weights[:2048]).reshape(64, 32),\n",
        "                 np.array(weights[2048:2368]).reshape(32, 10)]\n",
        "    nn.intercepts_ = [np.array(weights[2368:2400]),\n",
        "                      np.array(weights[2400:])]\n",
        "    nn.fit(X_train, y_train)\n",
        "    predictions = nn.predict(X_test)\n",
        "    return accuracy_score(y_test, predictions)\n",
        "\n",
        "# Genetic Algorithm Components\n",
        "def initialize_population(pop_size, num_weights):\n",
        "    return [np.random.uniform(-1, 1, num_weights) for _ in range(pop_size)]\n",
        "\n",
        "def crossover(parent1, parent2):\n",
        "    crossover_point = np.random.randint(len(parent1))\n",
        "    child1 = np.concatenate([parent1[:crossover_point], parent2[crossover_point:]])\n",
        "    child2 = np.concatenate([parent2[:crossover_point], parent1[crossover_point:]])\n",
        "    return child1, child2\n",
        "\n",
        "def mutate(individual, mutation_rate=0.01):\n",
        "    for i in range(len(individual)):\n",
        "        if np.random.rand() < mutation_rate:\n",
        "            individual[i] = np.random.uniform(-1, 1)\n",
        "    return individual\n",
        "\n",
        "def select_parents(population, fitnesses, num_parents, tournament_size=3):\n",
        "    selected_parents = []\n",
        "    for _ in range(num_parents):\n",
        "        tournament_inds = np.random.choice(len(population), tournament_size, replace=False)\n",
        "        tournament_fitnesses = fitnesses[tournament_inds]\n",
        "        winner_index = tournament_inds[np.argmax(tournament_fitnesses)]\n",
        "        selected_parents.append(population[winner_index])\n",
        "    return selected_parents\n",
        "\n",
        "\n",
        "# GA Parameters\n",
        "population_size = 50\n",
        "num_generations = 100\n",
        "mutation_rate = 0.01\n",
        "num_parents = population_size // 2\n",
        "num_weights = 2410  # Total number of weights and biases\n",
        "\n",
        "# Initialize Population\n",
        "population = initialize_population(population_size, num_weights)\n",
        "\n",
        "# Main Genetic Algorithm Loop\n",
        "for generation in range(num_generations):\n",
        "    # Evaluate Fitness\n",
        "    fitnesses = np.array([evaluate_nn(individual) for individual in population])\n",
        "\n",
        "    # Select Parents\n",
        "    parents = select_parents(population, fitnesses, num_parents)\n",
        "\n",
        "    # Generate Next Generation\n",
        "    next_generation = []\n",
        "    for _ in range(len(population) // 2):\n",
        "        parent_indices = np.random.choice(len(parents), 2, replace=False)\n",
        "        parent1, parent2 = parents[parent_indices[0]], parents[parent_indices[1]]\n",
        "        child1, child2 = crossover(parent1, parent2)\n",
        "        next_generation.extend([mutate(child1, mutation_rate), mutate(child2, mutation_rate)])\n",
        "\n",
        "    # Update Population\n",
        "    population = next_generation\n",
        "\n",
        "\n",
        "# Final Evaluation\n",
        "best_individual = max(population, key=lambda ind: evaluate_nn(ind))\n",
        "final_score = evaluate_nn(best_individual)\n",
        "print(f\"Final Accuracy: {final_score}\")"
      ],
      "metadata": {
        "colab": {
          "base_uri": "https://localhost:8080/"
        },
        "id": "287s2jGm2k4h",
        "outputId": "1f48e5c3-f803-4275-d199-9119f65eb708"
      },
      "execution_count": 3,
      "outputs": [
        {
          "output_type": "stream",
          "name": "stdout",
          "text": [
            "Final Accuracy: 0.575925925925926\n"
          ]
        }
      ]
    }
  ]
}