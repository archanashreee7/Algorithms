{
 "cells": [
  {
   "cell_type": "code",
   "execution_count": 1,
   "id": "468c6602",
   "metadata": {},
   "outputs": [
    {
     "name": "stdout",
     "output_type": "stream",
     "text": [
      "Epoch 0, Mean Squared Error: 0.3921615954725725\n",
      "Epoch 1000, Mean Squared Error: nan\n"
     ]
    },
    {
     "name": "stderr",
     "output_type": "stream",
     "text": [
      "C:\\Users\\User\\AppData\\Local\\Temp\\ipykernel_12684\\2305761514.py:41: RuntimeWarning: invalid value encountered in multiply\n",
      "  hidden_delta = hidden_error * sigmoid_derivative(self.hidden_output)\n"
     ]
    },
    {
     "name": "stdout",
     "output_type": "stream",
     "text": [
      "Epoch 2000, Mean Squared Error: nan\n",
      "Epoch 3000, Mean Squared Error: nan\n",
      "Epoch 4000, Mean Squared Error: nan\n",
      "Epoch 5000, Mean Squared Error: nan\n",
      "Epoch 6000, Mean Squared Error: nan\n",
      "Epoch 7000, Mean Squared Error: nan\n",
      "Epoch 8000, Mean Squared Error: nan\n",
      "Epoch 9000, Mean Squared Error: nan\n",
      "Predictions:\n",
      "[[nan]\n",
      " [nan]\n",
      " [nan]\n",
      " [nan]]\n"
     ]
    }
   ],
   "source": [
    "import numpy as np\n",
    "\n",
    "# Define the sigmoid activation function and its derivative\n",
    "def sigmoid(x):\n",
    "    return 1 / (1 + np.exp(-x))\n",
    "\n",
    "def sigmoid_derivative(x):\n",
    "    return x * (1 - x)\n",
    "\n",
    "# Define the neural network class\n",
    "class NeuralNetwork:\n",
    "    def __init__(self, input_size, hidden_size, output_size, learning_rate):\n",
    "        # Initialize weights and biases\n",
    "        self.weights_input_hidden = np.random.rand(input_size, hidden_size)\n",
    "        self.bias_hidden = np.zeros((1, hidden_size))\n",
    "        self.weights_hidden_output = np.random.rand(hidden_size, output_size)\n",
    "        self.bias_output = np.zeros((1, output_size))\n",
    "        \n",
    "        self.learning_rate = learning_rate\n",
    "\n",
    "    def forward(self, inputs):\n",
    "        # Forward propagation\n",
    "        self.hidden_input = np.dot(inputs, self.weights_input_hidden) + self.bias_hidden\n",
    "        self.hidden_output = sigmoid(self.hidden_input)\n",
    "        self.output = np.dot(self.hidden_output, self.weights_hidden_output) + self.bias_output\n",
    "        return sigmoid(self.output)\n",
    "\n",
    "    def backward(self, inputs, targets):\n",
    "        # Backward propagation using the chain rule\n",
    "\n",
    "        # Calculate the error and delta for the output layer\n",
    "        output_error = targets - self.output\n",
    "        output_delta = output_error * sigmoid_derivative(self.output)\n",
    "\n",
    "        # Update weights and biases for the output layer\n",
    "        self.weights_hidden_output += self.learning_rate * np.dot(self.hidden_output.T, output_delta)\n",
    "        self.bias_output += self.learning_rate * np.sum(output_delta, axis=0, keepdims=True)\n",
    "\n",
    "        # Calculate the error and delta for the hidden layer\n",
    "        hidden_error = np.dot(output_delta, self.weights_hidden_output.T)\n",
    "        hidden_delta = hidden_error * sigmoid_derivative(self.hidden_output)\n",
    "\n",
    "        # Update weights and biases for the hidden layer\n",
    "        self.weights_input_hidden += self.learning_rate * np.dot(inputs.T, hidden_delta)\n",
    "        self.bias_hidden += self.learning_rate * np.sum(hidden_delta, axis=0, keepdims=True)\n",
    "\n",
    "    def train(self, inputs, targets, epochs):\n",
    "        for epoch in range(epochs):\n",
    "            # Forward pass\n",
    "            predictions = self.forward(inputs)\n",
    "\n",
    "            # Backward pass\n",
    "            self.backward(inputs, targets)\n",
    "\n",
    "            # Print the mean squared error for every 1000 epochs\n",
    "            if epoch % 1000 == 0:\n",
    "                mse = np.mean((targets - predictions) ** 2)\n",
    "                print(f\"Epoch {epoch}, Mean Squared Error: {mse}\")\n",
    "\n",
    "# Example usage:\n",
    "# Assuming you have input data `X` and target data `y`\n",
    "# Make sure to normalize your input data before training\n",
    "# (e.g., dividing by the maximum value or using z-score normalization)\n",
    "\n",
    "# Define input and target data\n",
    "X = np.array([[0, 0], [0, 1], [1, 0], [1, 1]])\n",
    "y = np.array([[0], [1], [1], [0]])\n",
    "\n",
    "# Initialize and train the neural network\n",
    "input_size = 2\n",
    "hidden_size = 4\n",
    "output_size = 1\n",
    "learning_rate = 0.1\n",
    "\n",
    "nn = NeuralNetwork(input_size, hidden_size, output_size, learning_rate)\n",
    "nn.train(X, y, epochs=10000)\n",
    "\n",
    "# Test the trained network\n",
    "predictions = nn.forward(X)\n",
    "print(\"Predictions:\")\n",
    "print(predictions)\n"
   ]
  }
 ],
 "metadata": {
  "kernelspec": {
   "display_name": "Python 3 (ipykernel)",
   "language": "python",
   "name": "python3"
  },
  "language_info": {
   "codemirror_mode": {
    "name": "ipython",
    "version": 3
   },
   "file_extension": ".py",
   "mimetype": "text/x-python",
   "name": "python",
   "nbconvert_exporter": "python",
   "pygments_lexer": "ipython3",
   "version": "3.9.13"
  }
 },
 "nbformat": 4,
 "nbformat_minor": 5
}
